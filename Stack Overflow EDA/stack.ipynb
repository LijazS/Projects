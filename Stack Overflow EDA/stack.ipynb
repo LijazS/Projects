{
 "cells": [
  {
   "cell_type": "markdown",
   "metadata": {},
   "source": [
    "IMPORTING LIBRARIES AND CSV"
   ]
  },
  {
   "cell_type": "code",
   "execution_count": 75,
   "metadata": {},
   "outputs": [
    {
     "name": "stderr",
     "output_type": "stream",
     "text": [
      "C:\\Users\\lijaz\\AppData\\Local\\Temp\\ipykernel_19572\\1207369010.py:6: DtypeWarning: Columns (8,12,13,14,15,16,50,51,52,53,55,56,57,58,59,60,61,62,63,64,65,66,67,68,69,70,71,72,73,74,75,76,77,78,79,80,81,82,83,84,85,93,94,95,96,97,98,99,100,101,102,103,104,105,106,107,108,109,110,111,112,113,114,115,116,117,118,119,120,121,122,123,124,125,126,127,128) have mixed types. Specify dtype option on import or set low_memory=False.\n",
      "  df = pd.read_csv('C:/Users/lijaz/Desktop/DATA/stack/survey_results_public.csv')\n"
     ]
    }
   ],
   "source": [
    "import numpy as np \n",
    "import pandas as pd\n",
    "import matplotlib.pyplot as plt\n",
    "import seaborn as sns\n",
    "\n",
    "df = pd.read_csv('C:/Users/lijaz/Desktop/DATA/stack/survey_results_public.csv')"
   ]
  },
  {
   "cell_type": "code",
   "execution_count": 76,
   "metadata": {},
   "outputs": [
    {
     "name": "stdout",
     "output_type": "stream",
     "text": [
      "['AIDangerous', 'AIFuture', 'AIInteresting', 'AIResponsible', 'AdBlocker', 'AdBlockerDisable', 'AdBlockerReasons', 'AdsActions', 'AdsAgreeDisagree1', 'AdsAgreeDisagree2', 'AdsAgreeDisagree3', 'AdsPriorities1', 'AdsPriorities2', 'AdsPriorities3', 'AdsPriorities4', 'AdsPriorities5', 'AdsPriorities6', 'AdsPriorities7', 'Age', 'AgreeDisagree1', 'AgreeDisagree2', 'AgreeDisagree3', 'AssessBenefits1', 'AssessBenefits10', 'AssessBenefits11', 'AssessBenefits2', 'AssessBenefits3', 'AssessBenefits4', 'AssessBenefits5', 'AssessBenefits6', 'AssessBenefits7', 'AssessBenefits8', 'AssessBenefits9', 'AssessJob1', 'AssessJob10', 'AssessJob2', 'AssessJob3', 'AssessJob4', 'AssessJob5', 'AssessJob6', 'AssessJob7', 'AssessJob8', 'AssessJob9', 'CareerSatisfaction', 'CheckInCode', 'CommunicationTools', 'CompanySize', 'ConvertedSalary', 'Country', 'Currency', 'CurrencySymbol', 'DatabaseDesireNextYear', 'DatabaseWorkedWith', 'Dependents', 'DevType', 'EducationParents', 'EducationTypes', 'Employment', 'ErgonomicDevices', 'EthicalImplications', 'EthicsChoice', 'EthicsReport', 'EthicsResponsible', 'Exercise', 'FormalEducation', 'FrameworkDesireNextYear', 'FrameworkWorkedWith', 'Gender', 'HackathonReasons', 'Hobby', 'HopeFiveYears', 'HoursComputer', 'HoursOutside', 'HypotheticalTools1', 'HypotheticalTools2', 'HypotheticalTools3', 'HypotheticalTools4', 'HypotheticalTools5', 'IDE', 'JobContactPriorities1', 'JobContactPriorities2', 'JobContactPriorities3', 'JobContactPriorities4', 'JobContactPriorities5', 'JobEmailPriorities1', 'JobEmailPriorities2', 'JobEmailPriorities3', 'JobEmailPriorities4', 'JobEmailPriorities5', 'JobEmailPriorities6', 'JobEmailPriorities7', 'JobSatisfaction', 'JobSearchStatus', 'LanguageDesireNextYear', 'LanguageWorkedWith', 'LastNewJob', 'Methodology', 'MilitaryUS', 'NumberMonitors', 'OpenSource', 'OperatingSystem', 'PlatformDesireNextYear', 'PlatformWorkedWith', 'RaceEthnicity', 'Respondent', 'Salary', 'SalaryType', 'SelfTaughtTypes', 'SexualOrientation', 'SkipMeals', 'StackOverflowConsiderMember', 'StackOverflowDevStory', 'StackOverflowHasAccount', 'StackOverflowJobs', 'StackOverflowJobsRecommend', 'StackOverflowParticipate', 'StackOverflowRecommend', 'StackOverflowVisit', 'Student', 'SurveyEasy', 'SurveyTooLong', 'TimeAfterBootcamp', 'TimeFullyProductive', 'UndergradMajor', 'UpdateCV', 'VersionControl', 'WakeTime', 'YearsCoding', 'YearsCodingProf']\n"
     ]
    }
   ],
   "source": [
    "\n",
    "columns = list()\n",
    "columns = df.columns.tolist()\n",
    "colums = columns.sort()\n",
    "print(columns)"
   ]
  },
  {
   "cell_type": "markdown",
   "metadata": {},
   "source": [
    "Shape"
   ]
  },
  {
   "cell_type": "code",
   "execution_count": 77,
   "metadata": {},
   "outputs": [
    {
     "data": {
      "text/plain": [
       "(98855, 129)"
      ]
     },
     "execution_count": 77,
     "metadata": {},
     "output_type": "execute_result"
    }
   ],
   "source": [
    "df.shape"
   ]
  },
  {
   "cell_type": "markdown",
   "metadata": {},
   "source": [
    "Question : Are You more likely to get a job as a devoloper if you have a masters degree?"
   ]
  },
  {
   "cell_type": "markdown",
   "metadata": {},
   "source": [
    "SELECTING THE NEEDED COLUMNS"
   ]
  },
  {
   "cell_type": "code",
   "execution_count": 78,
   "metadata": {},
   "outputs": [
    {
     "data": {
      "text/html": [
       "<div>\n",
       "<style scoped>\n",
       "    .dataframe tbody tr th:only-of-type {\n",
       "        vertical-align: middle;\n",
       "    }\n",
       "\n",
       "    .dataframe tbody tr th {\n",
       "        vertical-align: top;\n",
       "    }\n",
       "\n",
       "    .dataframe thead th {\n",
       "        text-align: right;\n",
       "    }\n",
       "</style>\n",
       "<table border=\"1\" class=\"dataframe\">\n",
       "  <thead>\n",
       "    <tr style=\"text-align: right;\">\n",
       "      <th></th>\n",
       "      <th>Employment</th>\n",
       "      <th>FormalEducation</th>\n",
       "      <th>DevType</th>\n",
       "    </tr>\n",
       "  </thead>\n",
       "  <tbody>\n",
       "    <tr>\n",
       "      <th>0</th>\n",
       "      <td>Employed part-time</td>\n",
       "      <td>Bachelor’s degree (BA, BS, B.Eng., etc.)</td>\n",
       "      <td>Full-stack developer</td>\n",
       "    </tr>\n",
       "    <tr>\n",
       "      <th>1</th>\n",
       "      <td>Employed full-time</td>\n",
       "      <td>Bachelor’s degree (BA, BS, B.Eng., etc.)</td>\n",
       "      <td>Database administrator;DevOps specialist;Full-stack developer;System administrator</td>\n",
       "    </tr>\n",
       "    <tr>\n",
       "      <th>2</th>\n",
       "      <td>Employed full-time</td>\n",
       "      <td>Associate degree</td>\n",
       "      <td>Engineering manager;Full-stack developer</td>\n",
       "    </tr>\n",
       "    <tr>\n",
       "      <th>3</th>\n",
       "      <td>Employed full-time</td>\n",
       "      <td>Bachelor’s degree (BA, BS, B.Eng., etc.)</td>\n",
       "      <td>Full-stack developer</td>\n",
       "    </tr>\n",
       "    <tr>\n",
       "      <th>4</th>\n",
       "      <td>Employed full-time</td>\n",
       "      <td>Some college/university study without earning a degree</td>\n",
       "      <td>Data or business analyst;Desktop or enterprise applications developer;Game or graphics developer;QA or test developer;Student</td>\n",
       "    </tr>\n",
       "  </tbody>\n",
       "</table>\n",
       "</div>"
      ],
      "text/plain": [
       "           Employment                                         FormalEducation  \\\n",
       "0  Employed part-time                Bachelor’s degree (BA, BS, B.Eng., etc.)   \n",
       "1  Employed full-time                Bachelor’s degree (BA, BS, B.Eng., etc.)   \n",
       "2  Employed full-time                                        Associate degree   \n",
       "3  Employed full-time                Bachelor’s degree (BA, BS, B.Eng., etc.)   \n",
       "4  Employed full-time  Some college/university study without earning a degree   \n",
       "\n",
       "                                                                                                                         DevType  \n",
       "0                                                                                                           Full-stack developer  \n",
       "1                                             Database administrator;DevOps specialist;Full-stack developer;System administrator  \n",
       "2                                                                                       Engineering manager;Full-stack developer  \n",
       "3                                                                                                           Full-stack developer  \n",
       "4  Data or business analyst;Desktop or enterprise applications developer;Game or graphics developer;QA or test developer;Student  "
      ]
     },
     "execution_count": 78,
     "metadata": {},
     "output_type": "execute_result"
    }
   ],
   "source": [
    "needed = ['Employment','FormalEducation','DevType']\n",
    "gf = df[needed]\n",
    "gf.head()"
   ]
  },
  {
   "cell_type": "markdown",
   "metadata": {},
   "source": [
    "Filtering out unemployed and nan."
   ]
  },
  {
   "cell_type": "code",
   "execution_count": 79,
   "metadata": {},
   "outputs": [
    {
     "data": {
      "text/plain": [
       "(98855, 3)"
      ]
     },
     "execution_count": 79,
     "metadata": {},
     "output_type": "execute_result"
    }
   ],
   "source": [
    "gf.shape"
   ]
  },
  {
   "cell_type": "code",
   "execution_count": 80,
   "metadata": {},
   "outputs": [
    {
     "data": {
      "text/plain": [
       "array(['Employed part-time', 'Employed full-time',\n",
       "       'Independent contractor, freelancer, or self-employed',\n",
       "       'Not employed, and not looking for work',\n",
       "       'Not employed, but looking for work', nan, 'Retired'], dtype=object)"
      ]
     },
     "execution_count": 80,
     "metadata": {},
     "output_type": "execute_result"
    }
   ],
   "source": [
    "gf['Employment'].unique()"
   ]
  },
  {
   "cell_type": "code",
   "execution_count": 81,
   "metadata": {},
   "outputs": [
    {
     "data": {
      "text/plain": [
       "array(['Employed part-time', 'Employed full-time',\n",
       "       'Independent contractor, freelancer, or self-employed'],\n",
       "      dtype=object)"
      ]
     },
     "execution_count": 81,
     "metadata": {},
     "output_type": "execute_result"
    }
   ],
   "source": [
    "gf = gf[(gf['Employment'] == 'Employed part-time') | \n",
    "        (gf['Employment'] == 'Employed full-time') | \n",
    "        (gf['Employment'] == 'Independent contractor, freelancer, or self-employed')]\n",
    "\n",
    "gf['Employment'].unique()"
   ]
  },
  {
   "cell_type": "markdown",
   "metadata": {},
   "source": [
    "NOW WE HAVE TABLE OF ALL EMPLOYED PEOPLE."
   ]
  },
  {
   "cell_type": "markdown",
   "metadata": {},
   "source": [
    "NOW WE HAVE TO REMOVE null values"
   ]
  },
  {
   "cell_type": "code",
   "execution_count": 82,
   "metadata": {},
   "outputs": [
    {
     "data": {
      "text/plain": [
       "(79841, 3)"
      ]
     },
     "execution_count": 82,
     "metadata": {},
     "output_type": "execute_result"
    }
   ],
   "source": [
    "gf = gf.dropna(how='any')\n",
    "gf.shape"
   ]
  },
  {
   "cell_type": "markdown",
   "metadata": {},
   "source": [
    "Checking for null"
   ]
  },
  {
   "cell_type": "code",
   "execution_count": 83,
   "metadata": {},
   "outputs": [
    {
     "data": {
      "text/plain": [
       "(79841, 3)"
      ]
     },
     "execution_count": 83,
     "metadata": {},
     "output_type": "execute_result"
    }
   ],
   "source": [
    "gf.shape"
   ]
  },
  {
   "cell_type": "markdown",
   "metadata": {},
   "source": [
    "Select Total number of Devolopers"
   ]
  },
  {
   "cell_type": "code",
   "execution_count": 84,
   "metadata": {},
   "outputs": [
    {
     "name": "stdout",
     "output_type": "stream",
     "text": [
      "79841\n"
     ]
    }
   ],
   "source": [
    "total = gf['Employment'].count()\n",
    "print(total)"
   ]
  },
  {
   "cell_type": "markdown",
   "metadata": {},
   "source": [
    "Select number of devolopers with masters degree"
   ]
  },
  {
   "cell_type": "code",
   "execution_count": 85,
   "metadata": {},
   "outputs": [
    {
     "data": {
      "text/html": [
       "<div>\n",
       "<style scoped>\n",
       "    .dataframe tbody tr th:only-of-type {\n",
       "        vertical-align: middle;\n",
       "    }\n",
       "\n",
       "    .dataframe tbody tr th {\n",
       "        vertical-align: top;\n",
       "    }\n",
       "\n",
       "    .dataframe thead th {\n",
       "        text-align: right;\n",
       "    }\n",
       "</style>\n",
       "<table border=\"1\" class=\"dataframe\">\n",
       "  <thead>\n",
       "    <tr style=\"text-align: right;\">\n",
       "      <th></th>\n",
       "      <th>Employment</th>\n",
       "      <th>FormalEducation</th>\n",
       "      <th>DevType</th>\n",
       "    </tr>\n",
       "  </thead>\n",
       "  <tbody>\n",
       "    <tr>\n",
       "      <th>10</th>\n",
       "      <td>Employed full-time</td>\n",
       "      <td>Master’s degree (MA, MS, M.Eng., MBA, etc.)</td>\n",
       "      <td>Back-end developer;Database administrator;Mobile developer;System administrator</td>\n",
       "    </tr>\n",
       "    <tr>\n",
       "      <th>15</th>\n",
       "      <td>Employed full-time</td>\n",
       "      <td>Master’s degree (MA, MS, M.Eng., MBA, etc.)</td>\n",
       "      <td>Full-stack developer</td>\n",
       "    </tr>\n",
       "    <tr>\n",
       "      <th>17</th>\n",
       "      <td>Employed full-time</td>\n",
       "      <td>Master’s degree (MA, MS, M.Eng., MBA, etc.)</td>\n",
       "      <td>Back-end developer</td>\n",
       "    </tr>\n",
       "    <tr>\n",
       "      <th>24</th>\n",
       "      <td>Employed full-time</td>\n",
       "      <td>Master’s degree (MA, MS, M.Eng., MBA, etc.)</td>\n",
       "      <td>Mobile developer</td>\n",
       "    </tr>\n",
       "    <tr>\n",
       "      <th>25</th>\n",
       "      <td>Employed full-time</td>\n",
       "      <td>Master’s degree (MA, MS, M.Eng., MBA, etc.)</td>\n",
       "      <td>Full-stack developer</td>\n",
       "    </tr>\n",
       "  </tbody>\n",
       "</table>\n",
       "</div>"
      ],
      "text/plain": [
       "            Employment                              FormalEducation  \\\n",
       "10  Employed full-time  Master’s degree (MA, MS, M.Eng., MBA, etc.)   \n",
       "15  Employed full-time  Master’s degree (MA, MS, M.Eng., MBA, etc.)   \n",
       "17  Employed full-time  Master’s degree (MA, MS, M.Eng., MBA, etc.)   \n",
       "24  Employed full-time  Master’s degree (MA, MS, M.Eng., MBA, etc.)   \n",
       "25  Employed full-time  Master’s degree (MA, MS, M.Eng., MBA, etc.)   \n",
       "\n",
       "                                                                            DevType  \n",
       "10  Back-end developer;Database administrator;Mobile developer;System administrator  \n",
       "15                                                             Full-stack developer  \n",
       "17                                                               Back-end developer  \n",
       "24                                                                 Mobile developer  \n",
       "25                                                             Full-stack developer  "
      ]
     },
     "execution_count": 85,
     "metadata": {},
     "output_type": "execute_result"
    }
   ],
   "source": [
    "pattern = r'^mast'\n",
    "af = gf[gf['FormalEducation'].str.contains(pattern, case=False, regex=True)]\n",
    "\n",
    "af.head()"
   ]
  },
  {
   "cell_type": "code",
   "execution_count": 86,
   "metadata": {},
   "outputs": [],
   "source": [
    "masters = af['Employment'].count()"
   ]
  },
  {
   "cell_type": "markdown",
   "metadata": {},
   "source": [
    "Calculating Percantages"
   ]
  },
  {
   "cell_type": "code",
   "execution_count": 87,
   "metadata": {},
   "outputs": [
    {
     "name": "stdout",
     "output_type": "stream",
     "text": [
      "60324\n"
     ]
    }
   ],
   "source": [
    "diff = total - masters\n",
    "print(diff)"
   ]
  },
  {
   "cell_type": "code",
   "execution_count": 88,
   "metadata": {},
   "outputs": [
    {
     "name": "stdout",
     "output_type": "stream",
     "text": [
      "75.55516589221078\n"
     ]
    }
   ],
   "source": [
    "percentage_total = (diff/total)*100\n",
    "print(percentage_total)"
   ]
  },
  {
   "cell_type": "code",
   "execution_count": 89,
   "metadata": {},
   "outputs": [
    {
     "name": "stdout",
     "output_type": "stream",
     "text": [
      "24.44483410778922\n"
     ]
    }
   ],
   "source": [
    "percentage_masters = 100 - percentage_total\n",
    "print(percentage_masters)"
   ]
  },
  {
   "cell_type": "markdown",
   "metadata": {},
   "source": [
    "NOW PLOTTING A PIECHART"
   ]
  },
  {
   "cell_type": "code",
   "execution_count": 90,
   "metadata": {},
   "outputs": [
    {
     "data": {
      "text/plain": [
       "([<matplotlib.patches.Wedge at 0x2a0348f82e0>,\n",
       "  <matplotlib.patches.Wedge at 0x2a0348f8220>],\n",
       " [Text(0.7912644423687218, 0.764133877172656, 'With Masters'),\n",
       "  Text(-0.7912644666578703, -0.7641338520211209, 'Without Masters')],\n",
       " [Text(0.4315987867465755, 0.41680029663963053, '24.4%'),\n",
       "  Text(-0.43159879999520195, -0.4168002829206114, '75.6%')])"
      ]
     },
     "execution_count": 90,
     "metadata": {},
     "output_type": "execute_result"
    },
    {
     "data": {
      "image/png": "[encoded data removed]",
      "text/plain": [
       "<Figure size 640x480 with 1 Axes>"
      ]
     },
     "metadata": {},
     "output_type": "display_data"
    }
   ],
   "source": [
    "labels = ['With Masters','Without Masters']\n",
    "values = [percentage_masters,percentage_total]\n",
    "\n",
    "plt.pie(values,labels=labels, autopct='%1.1f%%')"
   ]
  },
  {
   "cell_type": "markdown",
   "metadata": {},
   "source": [
    "NOW LETS CHECK IF PEOPLE WITH MASTERS EARN MORE GENERALLY"
   ]
  },
  {
   "cell_type": "code",
   "execution_count": 91,
   "metadata": {},
   "outputs": [
    {
     "name": "stderr",
     "output_type": "stream",
     "text": [
      "C:\\Users\\lijaz\\AppData\\Local\\Temp\\ipykernel_19572\\2071664910.py:1: DtypeWarning: Columns (8,12,13,14,15,16,50,51,52,53,55,56,57,58,59,60,61,62,63,64,65,66,67,68,69,70,71,72,73,74,75,76,77,78,79,80,81,82,83,84,85,93,94,95,96,97,98,99,100,101,102,103,104,105,106,107,108,109,110,111,112,113,114,115,116,117,118,119,120,121,122,123,124,125,126,127,128) have mixed types. Specify dtype option on import or set low_memory=False.\n",
      "  df = pd.read_csv('C:/Users/lijaz/Desktop/DATA/stack/survey_results_public.csv')\n"
     ]
    },
    {
     "name": "stdout",
     "output_type": "stream",
     "text": [
      "['AIDangerous', 'AIFuture', 'AIInteresting', 'AIResponsible', 'AdBlocker', 'AdBlockerDisable', 'AdBlockerReasons', 'AdsActions', 'AdsAgreeDisagree1', 'AdsAgreeDisagree2', 'AdsAgreeDisagree3', 'AdsPriorities1', 'AdsPriorities2', 'AdsPriorities3', 'AdsPriorities4', 'AdsPriorities5', 'AdsPriorities6', 'AdsPriorities7', 'Age', 'AgreeDisagree1', 'AgreeDisagree2', 'AgreeDisagree3', 'AssessBenefits1', 'AssessBenefits10', 'AssessBenefits11', 'AssessBenefits2', 'AssessBenefits3', 'AssessBenefits4', 'AssessBenefits5', 'AssessBenefits6', 'AssessBenefits7', 'AssessBenefits8', 'AssessBenefits9', 'AssessJob1', 'AssessJob10', 'AssessJob2', 'AssessJob3', 'AssessJob4', 'AssessJob5', 'AssessJob6', 'AssessJob7', 'AssessJob8', 'AssessJob9', 'CareerSatisfaction', 'CheckInCode', 'CommunicationTools', 'CompanySize', 'ConvertedSalary', 'Country', 'Currency', 'CurrencySymbol', 'DatabaseDesireNextYear', 'DatabaseWorkedWith', 'Dependents', 'DevType', 'EducationParents', 'EducationTypes', 'Employment', 'ErgonomicDevices', 'EthicalImplications', 'EthicsChoice', 'EthicsReport', 'EthicsResponsible', 'Exercise', 'FormalEducation', 'FrameworkDesireNextYear', 'FrameworkWorkedWith', 'Gender', 'HackathonReasons', 'Hobby', 'HopeFiveYears', 'HoursComputer', 'HoursOutside', 'HypotheticalTools1', 'HypotheticalTools2', 'HypotheticalTools3', 'HypotheticalTools4', 'HypotheticalTools5', 'IDE', 'JobContactPriorities1', 'JobContactPriorities2', 'JobContactPriorities3', 'JobContactPriorities4', 'JobContactPriorities5', 'JobEmailPriorities1', 'JobEmailPriorities2', 'JobEmailPriorities3', 'JobEmailPriorities4', 'JobEmailPriorities5', 'JobEmailPriorities6', 'JobEmailPriorities7', 'JobSatisfaction', 'JobSearchStatus', 'LanguageDesireNextYear', 'LanguageWorkedWith', 'LastNewJob', 'Methodology', 'MilitaryUS', 'NumberMonitors', 'OpenSource', 'OperatingSystem', 'PlatformDesireNextYear', 'PlatformWorkedWith', 'RaceEthnicity', 'Respondent', 'Salary', 'SalaryType', 'SelfTaughtTypes', 'SexualOrientation', 'SkipMeals', 'StackOverflowConsiderMember', 'StackOverflowDevStory', 'StackOverflowHasAccount', 'StackOverflowJobs', 'StackOverflowJobsRecommend', 'StackOverflowParticipate', 'StackOverflowRecommend', 'StackOverflowVisit', 'Student', 'SurveyEasy', 'SurveyTooLong', 'TimeAfterBootcamp', 'TimeFullyProductive', 'UndergradMajor', 'UpdateCV', 'VersionControl', 'WakeTime', 'YearsCoding', 'YearsCodingProf']\n"
     ]
    }
   ],
   "source": [
    "df = pd.read_csv('C:/Users/lijaz/Desktop/DATA/stack/survey_results_public.csv')\n",
    "columns = list()\n",
    "columns = df.columns.tolist()\n",
    "colums = columns.sort()\n",
    "print(columns)"
   ]
  },
  {
   "cell_type": "markdown",
   "metadata": {},
   "source": [
    "SELECT NEEDED COLUMNS"
   ]
  },
  {
   "cell_type": "code",
   "execution_count": 92,
   "metadata": {},
   "outputs": [
    {
     "data": {
      "text/html": [
       "<div>\n",
       "<style scoped>\n",
       "    .dataframe tbody tr th:only-of-type {\n",
       "        vertical-align: middle;\n",
       "    }\n",
       "\n",
       "    .dataframe tbody tr th {\n",
       "        vertical-align: top;\n",
       "    }\n",
       "\n",
       "    .dataframe thead th {\n",
       "        text-align: right;\n",
       "    }\n",
       "</style>\n",
       "<table border=\"1\" class=\"dataframe\">\n",
       "  <thead>\n",
       "    <tr style=\"text-align: right;\">\n",
       "      <th></th>\n",
       "      <th>Employment</th>\n",
       "      <th>FormalEducation</th>\n",
       "      <th>DevType</th>\n",
       "      <th>ConvertedSalary</th>\n",
       "    </tr>\n",
       "  </thead>\n",
       "  <tbody>\n",
       "    <tr>\n",
       "      <th>0</th>\n",
       "      <td>Employed part-time</td>\n",
       "      <td>Bachelor’s degree (BA, BS, B.Eng., etc.)</td>\n",
       "      <td>Full-stack developer</td>\n",
       "      <td>NaN</td>\n",
       "    </tr>\n",
       "    <tr>\n",
       "      <th>1</th>\n",
       "      <td>Employed full-time</td>\n",
       "      <td>Bachelor’s degree (BA, BS, B.Eng., etc.)</td>\n",
       "      <td>Database administrator;DevOps specialist;Full-stack developer;System administrator</td>\n",
       "      <td>70841.0</td>\n",
       "    </tr>\n",
       "    <tr>\n",
       "      <th>2</th>\n",
       "      <td>Employed full-time</td>\n",
       "      <td>Associate degree</td>\n",
       "      <td>Engineering manager;Full-stack developer</td>\n",
       "      <td>NaN</td>\n",
       "    </tr>\n",
       "    <tr>\n",
       "      <th>3</th>\n",
       "      <td>Employed full-time</td>\n",
       "      <td>Bachelor’s degree (BA, BS, B.Eng., etc.)</td>\n",
       "      <td>Full-stack developer</td>\n",
       "      <td>NaN</td>\n",
       "    </tr>\n",
       "    <tr>\n",
       "      <th>4</th>\n",
       "      <td>Employed full-time</td>\n",
       "      <td>Some college/university study without earning a degree</td>\n",
       "      <td>Data or business analyst;Desktop or enterprise applications developer;Game or graphics developer;QA or test developer;Student</td>\n",
       "      <td>21426.0</td>\n",
       "    </tr>\n",
       "  </tbody>\n",
       "</table>\n",
       "</div>"
      ],
      "text/plain": [
       "           Employment                                         FormalEducation  \\\n",
       "0  Employed part-time                Bachelor’s degree (BA, BS, B.Eng., etc.)   \n",
       "1  Employed full-time                Bachelor’s degree (BA, BS, B.Eng., etc.)   \n",
       "2  Employed full-time                                        Associate degree   \n",
       "3  Employed full-time                Bachelor’s degree (BA, BS, B.Eng., etc.)   \n",
       "4  Employed full-time  Some college/university study without earning a degree   \n",
       "\n",
       "                                                                                                                         DevType  \\\n",
       "0                                                                                                           Full-stack developer   \n",
       "1                                             Database administrator;DevOps specialist;Full-stack developer;System administrator   \n",
       "2                                                                                       Engineering manager;Full-stack developer   \n",
       "3                                                                                                           Full-stack developer   \n",
       "4  Data or business analyst;Desktop or enterprise applications developer;Game or graphics developer;QA or test developer;Student   \n",
       "\n",
       "   ConvertedSalary  \n",
       "0              NaN  \n",
       "1          70841.0  \n",
       "2              NaN  \n",
       "3              NaN  \n",
       "4          21426.0  "
      ]
     },
     "execution_count": 92,
     "metadata": {},
     "output_type": "execute_result"
    }
   ],
   "source": [
    "needed = ['Employment','FormalEducation','DevType','ConvertedSalary']\n",
    "gf = df[needed]\n",
    "gf.head()"
   ]
  },
  {
   "cell_type": "code",
   "execution_count": 93,
   "metadata": {},
   "outputs": [
    {
     "data": {
      "text/html": [
       "<div>\n",
       "<style scoped>\n",
       "    .dataframe tbody tr th:only-of-type {\n",
       "        vertical-align: middle;\n",
       "    }\n",
       "\n",
       "    .dataframe tbody tr th {\n",
       "        vertical-align: top;\n",
       "    }\n",
       "\n",
       "    .dataframe thead th {\n",
       "        text-align: right;\n",
       "    }\n",
       "</style>\n",
       "<table border=\"1\" class=\"dataframe\">\n",
       "  <thead>\n",
       "    <tr style=\"text-align: right;\">\n",
       "      <th></th>\n",
       "      <th>Employment</th>\n",
       "      <th>FormalEducation</th>\n",
       "      <th>DevType</th>\n",
       "      <th>Salary</th>\n",
       "    </tr>\n",
       "  </thead>\n",
       "  <tbody>\n",
       "    <tr>\n",
       "      <th>0</th>\n",
       "      <td>Employed part-time</td>\n",
       "      <td>Bachelor’s degree (BA, BS, B.Eng., etc.)</td>\n",
       "      <td>Full-stack developer</td>\n",
       "      <td>NaN</td>\n",
       "    </tr>\n",
       "    <tr>\n",
       "      <th>1</th>\n",
       "      <td>Employed full-time</td>\n",
       "      <td>Bachelor’s degree (BA, BS, B.Eng., etc.)</td>\n",
       "      <td>Database administrator;DevOps specialist;Full-stack developer;System administrator</td>\n",
       "      <td>70841.0</td>\n",
       "    </tr>\n",
       "    <tr>\n",
       "      <th>2</th>\n",
       "      <td>Employed full-time</td>\n",
       "      <td>Associate degree</td>\n",
       "      <td>Engineering manager;Full-stack developer</td>\n",
       "      <td>NaN</td>\n",
       "    </tr>\n",
       "    <tr>\n",
       "      <th>3</th>\n",
       "      <td>Employed full-time</td>\n",
       "      <td>Bachelor’s degree (BA, BS, B.Eng., etc.)</td>\n",
       "      <td>Full-stack developer</td>\n",
       "      <td>NaN</td>\n",
       "    </tr>\n",
       "    <tr>\n",
       "      <th>4</th>\n",
       "      <td>Employed full-time</td>\n",
       "      <td>Some college/university study without earning a degree</td>\n",
       "      <td>Data or business analyst;Desktop or enterprise applications developer;Game or graphics developer;QA or test developer;Student</td>\n",
       "      <td>21426.0</td>\n",
       "    </tr>\n",
       "  </tbody>\n",
       "</table>\n",
       "</div>"
      ],
      "text/plain": [
       "           Employment                                         FormalEducation  \\\n",
       "0  Employed part-time                Bachelor’s degree (BA, BS, B.Eng., etc.)   \n",
       "1  Employed full-time                Bachelor’s degree (BA, BS, B.Eng., etc.)   \n",
       "2  Employed full-time                                        Associate degree   \n",
       "3  Employed full-time                Bachelor’s degree (BA, BS, B.Eng., etc.)   \n",
       "4  Employed full-time  Some college/university study without earning a degree   \n",
       "\n",
       "                                                                                                                         DevType  \\\n",
       "0                                                                                                           Full-stack developer   \n",
       "1                                             Database administrator;DevOps specialist;Full-stack developer;System administrator   \n",
       "2                                                                                       Engineering manager;Full-stack developer   \n",
       "3                                                                                                           Full-stack developer   \n",
       "4  Data or business analyst;Desktop or enterprise applications developer;Game or graphics developer;QA or test developer;Student   \n",
       "\n",
       "    Salary  \n",
       "0      NaN  \n",
       "1  70841.0  \n",
       "2      NaN  \n",
       "3      NaN  \n",
       "4  21426.0  "
      ]
     },
     "execution_count": 93,
     "metadata": {},
     "output_type": "execute_result"
    }
   ],
   "source": [
    "gf = gf.rename(columns={'ConvertedSalary':'Salary'})\n",
    "gf.head()"
   ]
  },
  {
   "cell_type": "markdown",
   "metadata": {},
   "source": [
    "NOW CLEANING"
   ]
  },
  {
   "cell_type": "code",
   "execution_count": 94,
   "metadata": {},
   "outputs": [],
   "source": [
    "gf = gf[(gf['Employment'] == 'Employed part-time') | \n",
    "        (gf['Employment'] == 'Employed full-time') | \n",
    "        (gf['Employment'] == 'Independent contractor, freelancer, or self-employed')]"
   ]
  },
  {
   "cell_type": "code",
   "execution_count": 95,
   "metadata": {},
   "outputs": [
    {
     "data": {
      "text/plain": [
       "(44708, 4)"
      ]
     },
     "execution_count": 95,
     "metadata": {},
     "output_type": "execute_result"
    }
   ],
   "source": [
    "gf = gf.dropna(how='any')\n",
    "gf.shape"
   ]
  },
  {
   "cell_type": "code",
   "execution_count": 96,
   "metadata": {},
   "outputs": [
    {
     "data": {
      "text/plain": [
       "<bound method NDFrame.head of                                                  Employment  \\\n",
       "1                                        Employed full-time   \n",
       "4                                        Employed full-time   \n",
       "5                                        Employed full-time   \n",
       "6                                        Employed full-time   \n",
       "8                                        Employed full-time   \n",
       "...                                                     ...   \n",
       "89839  Independent contractor, freelancer, or self-employed   \n",
       "89888  Independent contractor, freelancer, or self-employed   \n",
       "89898                                    Employed part-time   \n",
       "89911                                    Employed part-time   \n",
       "89960                                    Employed full-time   \n",
       "\n",
       "                                                                          FormalEducation  \\\n",
       "1                                                Bachelor’s degree (BA, BS, B.Eng., etc.)   \n",
       "4                                  Some college/university study without earning a degree   \n",
       "5                                                Bachelor’s degree (BA, BS, B.Eng., etc.)   \n",
       "6                                  Some college/university study without earning a degree   \n",
       "8                                  Some college/university study without earning a degree   \n",
       "...                                                                                   ...   \n",
       "89839  Secondary school (e.g. American high school, German Realschule or Gymnasium, etc.)   \n",
       "89888  Secondary school (e.g. American high school, German Realschule or Gymnasium, etc.)   \n",
       "89898                                            Bachelor’s degree (BA, BS, B.Eng., etc.)   \n",
       "89911  Secondary school (e.g. American high school, German Realschule or Gymnasium, etc.)   \n",
       "89960  Secondary school (e.g. American high school, German Realschule or Gymnasium, etc.)   \n",
       "\n",
       "                                                                                                                                                                                     DevType  \\\n",
       "1                                                                                                         Database administrator;DevOps specialist;Full-stack developer;System administrator   \n",
       "4                                                              Data or business analyst;Desktop or enterprise applications developer;Game or graphics developer;QA or test developer;Student   \n",
       "5                                                                                                         Back-end developer;Database administrator;Front-end developer;Full-stack developer   \n",
       "6                                                                                                                                Back-end developer;Front-end developer;Full-stack developer   \n",
       "8      Back-end developer;C-suite executive (CEO, CTO, etc.);Data or business analyst;Database administrator;DevOps specialist;Engineering manager;Full-stack developer;System administrator   \n",
       "...                                                                                                                                                                                      ...   \n",
       "89839                                                                                                                                                             Back-end developer;Student   \n",
       "89888                                                                                                                                                                       Designer;Student   \n",
       "89898                                                                                                                                                                                Student   \n",
       "89911                                                                                                                                                                                Student   \n",
       "89960                                                                                                                                                                                Student   \n",
       "\n",
       "         Salary  \n",
       "1       70841.0  \n",
       "4       21426.0  \n",
       "5       41671.0  \n",
       "6      120000.0  \n",
       "8      250000.0  \n",
       "...         ...  \n",
       "89839   96000.0  \n",
       "89888     800.0  \n",
       "89898    4548.0  \n",
       "89911   10000.0  \n",
       "89960       0.0  \n",
       "\n",
       "[44708 rows x 4 columns]>"
      ]
     },
     "execution_count": 96,
     "metadata": {},
     "output_type": "execute_result"
    }
   ],
   "source": [
    "gf.head"
   ]
  },
  {
   "cell_type": "code",
   "execution_count": 97,
   "metadata": {},
   "outputs": [
    {
     "data": {
      "text/plain": [
       "(10813, 4)"
      ]
     },
     "execution_count": 97,
     "metadata": {},
     "output_type": "execute_result"
    }
   ],
   "source": [
    "mf = gf[gf['FormalEducation'] == 'Master’s degree (MA, MS, M.Eng., MBA, etc.)']\n",
    "tf = gf[gf['FormalEducation'] != 'Master’s degree (MA, MS, M.Eng., MBA, etc.)']\n",
    "mf = mf[mf['Salary']!=0]\n",
    "tf = tf[tf['Salary']!=0]\n",
    "mf.shape"
   ]
  },
  {
   "cell_type": "code",
   "execution_count": 98,
   "metadata": {},
   "outputs": [
    {
     "data": {
      "text/plain": [
       "(33701, 4)"
      ]
     },
     "execution_count": 98,
     "metadata": {},
     "output_type": "execute_result"
    }
   ],
   "source": [
    "tf.shape"
   ]
  },
  {
   "cell_type": "markdown",
   "metadata": {},
   "source": [
    "NOW WE HAVE 2 DATA FRAMES, ONE WITH ALL MASTER DEVOLOPERS AND OTHER WITH ALL NON MASTERS."
   ]
  },
  {
   "cell_type": "markdown",
   "metadata": {},
   "source": [
    "CALCULATE AVERAGE SALARY OF BOTH"
   ]
  },
  {
   "cell_type": "code",
   "execution_count": 99,
   "metadata": {},
   "outputs": [
    {
     "name": "stdout",
     "output_type": "stream",
     "text": [
      "102076.5105891057\n",
      "97489.16367466841\n"
     ]
    }
   ],
   "source": [
    "avg_master = mf['Salary'].sum()/10813\n",
    "print(avg_master)\n",
    "\n",
    "avg_non = tf['Salary'].sum()/33701\n",
    "print(avg_non)"
   ]
  },
  {
   "cell_type": "markdown",
   "metadata": {},
   "source": [
    "NOW calculate percentage dfference"
   ]
  },
  {
   "cell_type": "code",
   "execution_count": 100,
   "metadata": {},
   "outputs": [
    {
     "name": "stdout",
     "output_type": "stream",
     "text": [
      "95.50597205178477\n",
      "4.494027948215233\n"
     ]
    }
   ],
   "source": [
    "perc = (avg_non/avg_master)*100\n",
    "print(perc)\n",
    "\n",
    "perc_2 = 100-perc\n",
    "print(perc_2)"
   ]
  },
  {
   "cell_type": "markdown",
   "metadata": {},
   "source": [
    "SO Masters degree earn 4.5% more"
   ]
  },
  {
   "cell_type": "markdown",
   "metadata": {},
   "source": [
    "Question : Whats the most popular method of learning?"
   ]
  },
  {
   "cell_type": "code",
   "execution_count": 101,
   "metadata": {},
   "outputs": [
    {
     "data": {
      "text/plain": [
       "0                                                                                                       Taught yourself a new language, framework, or tool without taking a formal course;Participated in a hackathon\n",
       "1                                                                                               Taught yourself a new language, framework, or tool without taking a formal course;Contributed to open source software\n",
       "2                                                                                                                                                                                                                 NaN\n",
       "3                                                                           Completed an industry certification program (e.g. MCPD);Taught yourself a new language, framework, or tool without taking a formal course\n",
       "4    Taken a part-time in-person course in programming or software development;Received on-the-job training in software development;Taught yourself a new language, framework, or tool without taking a formal course\n",
       "Name: EducationTypes, dtype: object"
      ]
     },
     "execution_count": 101,
     "metadata": {},
     "output_type": "execute_result"
    }
   ],
   "source": [
    "\n",
    "gf = df['EducationTypes']\n",
    "gf.head()"
   ]
  },
  {
   "cell_type": "code",
   "execution_count": 102,
   "metadata": {},
   "outputs": [
    {
     "data": {
      "text/plain": [
       "0                                                                                                                  Taught yourself a new language, framework, or tool without taking a formal course;Participated in a hackathon\n",
       "1                                                                                                          Taught yourself a new language, framework, or tool without taking a formal course;Contributed to open source software\n",
       "3                                                                                      Completed an industry certification program (e.g. MCPD);Taught yourself a new language, framework, or tool without taking a formal course\n",
       "4               Taken a part-time in-person course in programming or software development;Received on-the-job training in software development;Taught yourself a new language, framework, or tool without taking a formal course\n",
       "5        Received on-the-job training in software development;Taught yourself a new language, framework, or tool without taking a formal course;Participated in online coding competitions (e.g. HackerRank, CodeChef, TopCoder)\n",
       "                                                                                                                  ...                                                                                                           \n",
       "90497                                                                                                                                                                                        Contributed to open source software\n",
       "90498                                                                                                                                                                                        Contributed to open source software\n",
       "90499                                                                                                                                                                                        Contributed to open source software\n",
       "90500                                                                                                                                                                                        Contributed to open source software\n",
       "90501                                                                                                                                                                                        Contributed to open source software\n",
       "Name: EducationTypes, Length: 67960, dtype: object"
      ]
     },
     "execution_count": 102,
     "metadata": {},
     "output_type": "execute_result"
    }
   ],
   "source": [
    "gf.dropna(how='any')"
   ]
  },
  {
   "cell_type": "code",
   "execution_count": 103,
   "metadata": {},
   "outputs": [
    {
     "data": {
      "text/plain": [
       "EducationTypes    Taught yourself a new language, framework, or tool without taking a formal course;Participated in online coding competitions (e.g. HackerRank, CodeChef, TopCoder);Participated in a hackathon;Contributed to open source software\n",
       "Count                                                                                                                                                                                                                                           6900\n",
       "dtype: object"
      ]
     },
     "execution_count": 103,
     "metadata": {},
     "output_type": "execute_result"
    }
   ],
   "source": [
    "qf = df.groupby(['EducationTypes']).size().reset_index(name='Count')\n",
    "pd.set_option('display.max_colwidth', None)\n",
    "qf = qf.max()\n",
    "\n",
    "qf.head()\n"
   ]
  },
  {
   "cell_type": "markdown",
   "metadata": {},
   "source": [
    "FOUND THE MOST POPULAR EDUCATION TYPE"
   ]
  },
  {
   "cell_type": "code",
   "execution_count": 104,
   "metadata": {},
   "outputs": [],
   "source": [
    "needed = ['YearsCoding','ConvertedSalary','DevType']\n",
    "new = df[needed]"
   ]
  },
  {
   "cell_type": "code",
   "execution_count": 105,
   "metadata": {},
   "outputs": [],
   "source": [
    "new = new.dropna()"
   ]
  },
  {
   "cell_type": "code",
   "execution_count": 106,
   "metadata": {},
   "outputs": [],
   "source": [
    "def exp(string):\n",
    "    if isinstance(string,str):\n",
    "        parts=string.split('or more')\n",
    "        if len(parts)>1:\n",
    "           return int(parts[0])\n",
    "        else:\n",
    "           range_parts=string.split('-')\n",
    "           start=int(range_parts[0])\n",
    "           end=int(range_parts[1].split()[0])\n",
    "           return (start+end)/2\n",
    "    else :\n",
    "        return string\n",
    "     \n",
    "\n",
    "new['YearsCoding']=new['YearsCoding'].apply(exp)"
   ]
  },
  {
   "cell_type": "markdown",
   "metadata": {},
   "source": [
    "IMPORT LIBRARIES"
   ]
  }
 ],
 "metadata": {
  "kernelspec": {
   "display_name": "Python 3",
   "language": "python",
   "name": "python3"
  },
  "language_info": {
   "codemirror_mode": {
    "name": "ipython",
    "version": 3
   },
   "file_extension": ".py",
   "mimetype": "text/x-python",
   "name": "python",
   "nbconvert_exporter": "python",
   "pygments_lexer": "ipython3",
   "version": "3.10.2"
  }
 },
 "nbformat": 4,
 "nbformat_minor": 2
}
